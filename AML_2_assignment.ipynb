{
  "nbformat": 4,
  "nbformat_minor": 0,
  "metadata": {
    "colab": {
      "provenance": []
    },
    "kernelspec": {
      "name": "python3",
      "display_name": "Python 3"
    },
    "language_info": {
      "name": "python"
    }
  },
  "cells": [
    {
      "cell_type": "code",
      "execution_count": null,
      "metadata": {
        "colab": {
          "base_uri": "https://localhost:8080/"
        },
        "id": "2BIVAX5j3AVi",
        "outputId": "fa0346b6-ecbb-4ae1-c6b0-7b6545cef55b"
      },
      "outputs": [
        {
          "output_type": "stream",
          "name": "stdout",
          "text": [
            "X_train:\n",
            "[[11 12]\n",
            " [ 5  6]\n",
            " [ 9 10]\n",
            " [ 7  8]]\n",
            "\n",
            "y_train:\n",
            "[0 1 1 0]\n",
            "\n",
            "X_test:\n",
            "[[1 2]\n",
            " [3 4]]\n",
            "\n",
            "y_test:\n",
            "[0 1]\n"
          ]
        }
      ],
      "source": [
        "import numpy as np\n",
        "from sklearn.model_selection import train_test_split\n",
        "\n",
        "# Sample data\n",
        "data = np.array([[1, 2, 0], [3, 4, 1], [5, 6, 1], [7, 8, 0], [9, 10, 1], [11, 12, 0]])\n",
        "\n",
        "# Split the data using train_test_split\n",
        "X = data[:, :-1]\n",
        "y = data[:, -1]\n",
        "X_train, X_test, y_train, y_test = train_test_split(X, y, test_size=0.2, random_state=42)\n",
        "\n",
        "# Print the results\n",
        "print('X_train:')\n",
        "print(X_train)\n",
        "print('\\ny_train:')\n",
        "print(y_train)\n",
        "print('\\nX_test:')\n",
        "print(X_test)\n",
        "print('\\ny_test:')\n",
        "print(y_test)\n"
      ]
    },
    {
      "cell_type": "code",
      "source": [
        "import numpy as np\n",
        "\n",
        "# Sample data\n",
        "data = np.array([[1, 2, 0], [3, 4, 1], [5, 6, 1], [7, 8, 0]])\n",
        "\n",
        "# Shuffle the data randomly\n",
        "np.random.shuffle(data)\n",
        "\n",
        "# Define the split fraction\n",
        "split_fraction = 0.8\n",
        "split = int(split_fraction * len(data))\n",
        "\n",
        "# Split the data into training and testing sets\n",
        "X_train = data[:split, :-1]\n",
        "y_train = data[:split, -1]\n",
        "X_test = data[split:, :-1]\n",
        "y_test = data[split:, -1]\n",
        "\n",
        "print('X_train:')\n",
        "print(X_train)\n",
        "print('\\ny_train:')\n",
        "print(y_train)\n",
        "print('\\nX_test:')\n",
        "print(X_test)\n",
        "print('\\ny_test:')\n",
        "print(y_test)\n"
      ],
      "metadata": {
        "colab": {
          "base_uri": "https://localhost:8080/"
        },
        "id": "BTK29sZk3oaW",
        "outputId": "db7aabdf-241d-4529-c2a0-51d949c934ed"
      },
      "execution_count": null,
      "outputs": [
        {
          "output_type": "stream",
          "name": "stdout",
          "text": [
            "X_train:\n",
            "[[1 2]\n",
            " [5 6]\n",
            " [7 8]]\n",
            "\n",
            "y_train:\n",
            "[0 1 0]\n",
            "\n",
            "X_test:\n",
            "[[3 4]]\n",
            "\n",
            "y_test:\n",
            "[1]\n"
          ]
        }
      ]
    },
    {
      "cell_type": "code",
      "source": [
        "import numpy as np\n",
        "\n",
        "def my_random_train_test_split(X, y, train_fraction):\n",
        "    num_samples = X.shape[0]\n",
        "\n",
        "    # Shuffle the indices randomly\n",
        "    indices = np.random.permutation(num_samples)\n",
        "\n",
        "    # Calculate the split index\n",
        "    split = int(train_fraction * num_samples)\n",
        "\n",
        "    # Select the first 'split' shuffled indices for training\n",
        "    train_indices = indices[:split]\n",
        "\n",
        "    # Use the selected indices to split the data\n",
        "    X_train = X[train_indices]\n",
        "    y_train = y[train_indices]\n",
        "\n",
        "    # The rest of the indices are for testing\n",
        "    test_indices = indices[split:]\n",
        "\n",
        "    X_test = X[test_indices]\n",
        "    y_test = y[test_indices]\n",
        "\n",
        "    return (X_train, y_train, X_test, y_test)\n",
        "\n",
        "# Sample data\n",
        "data = np.array([[1, 2, 0], [3, 4, 1], [5, 6, 1], [7, 8, 0]])\n",
        "\n",
        "# Split the data using my_random_train_test_split\n",
        "X_train, y_train, X_test, y_test = my_random_train_test_split(data[:, :-1], data[:, -1], train_fraction=0.8)\n",
        "\n",
        "# Print the results\n",
        "print('X_train:')\n",
        "print(X_train)\n",
        "print('\\ny_train:')\n",
        "print(y_train)\n",
        "print('\\nX_test:')\n",
        "print(X_test)\n",
        "print('\\ny_test:')\n",
        "print(y_test)\n"
      ],
      "metadata": {
        "colab": {
          "base_uri": "https://localhost:8080/"
        },
        "id": "0Hj4MC8c4dp-",
        "outputId": "3aef2957-e417-4bda-e08f-6c67c706dd2c"
      },
      "execution_count": null,
      "outputs": [
        {
          "output_type": "stream",
          "name": "stdout",
          "text": [
            "X_train:\n",
            "[[1 2]\n",
            " [5 6]\n",
            " [3 4]]\n",
            "\n",
            "y_train:\n",
            "[0 1 1]\n",
            "\n",
            "X_test:\n",
            "[[7 8]]\n",
            "\n",
            "y_test:\n",
            "[0]\n"
          ]
        }
      ]
    },
    {
      "cell_type": "code",
      "source": [
        "import numpy as np\n",
        "\n",
        "# Sample data\n",
        "data = np.array([[1, 2, 0], [3, 4, 1], [5, 6, 1], [7, 8, 0]])\n",
        "\n",
        "# Define the split fraction\n",
        "split_fraction = 0.8\n",
        "\n",
        "# Calculate the split index\n",
        "split = int(split_fraction * len(data))\n",
        "\n",
        "# Split the data into training and testing sets\n",
        "X_train = data[:split, :-1]\n",
        "y_train = data[:split, -1]\n",
        "X_test = data[split:, :-1]\n",
        "y_test = data[split:, -1]\n",
        "\n",
        "# Print the results\n",
        "print('X_train:')\n",
        "print(X_train)\n",
        "print('\\ny_train:')\n",
        "print(y_train)\n",
        "print('\\nX_test:')\n",
        "print(X_test)\n",
        "print('\\ny_test:')\n",
        "print(y_test)\n"
      ],
      "metadata": {
        "colab": {
          "base_uri": "https://localhost:8080/"
        },
        "id": "jeHcmA3m4_yM",
        "outputId": "7487e79a-2086-4227-d748-9e05e905fb2b"
      },
      "execution_count": null,
      "outputs": [
        {
          "output_type": "stream",
          "name": "stdout",
          "text": [
            "X_train:\n",
            "[[1 2]\n",
            " [3 4]\n",
            " [5 6]]\n",
            "\n",
            "y_train:\n",
            "[0 1 1]\n",
            "\n",
            "X_test:\n",
            "[[7 8]]\n",
            "\n",
            "y_test:\n",
            "[0]\n"
          ]
        }
      ]
    },
    {
      "cell_type": "code",
      "source": [
        "import numpy as np\n",
        "from sklearn.model_selection import train_test_split\n",
        "\n",
        "# Sample data\n",
        "data = np.array([[1, 2, 0], [3, 4, 1], [5, 6, 1], [7, 8, 0]])\n",
        "\n",
        "# Split the data using train_test_split\n",
        "X = data[:, :-1]\n",
        "y = data[:, -1]\n",
        "X_train, X_test, y_train, y_test = train_test_split(X, y, test_size=0.2, random_state=42)\n",
        "\n",
        "# Print the results\n",
        "print('X_train:')\n",
        "print(X_train)\n",
        "print('\\ny_train:')\n",
        "print(y_train)\n",
        "print('\\nX_test:')\n",
        "print(X_test)\n",
        "print('\\ny_test:')\n",
        "print(y_test)\n"
      ],
      "metadata": {
        "colab": {
          "base_uri": "https://localhost:8080/"
        },
        "id": "1KiVc90s5f0i",
        "outputId": "82a24f3d-1f18-4875-ba26-38d175f21c45"
      },
      "execution_count": null,
      "outputs": [
        {
          "output_type": "stream",
          "name": "stdout",
          "text": [
            "X_train:\n",
            "[[7 8]\n",
            " [1 2]\n",
            " [5 6]]\n",
            "\n",
            "y_train:\n",
            "[0 0 1]\n",
            "\n",
            "X_test:\n",
            "[[3 4]]\n",
            "\n",
            "y_test:\n",
            "[1]\n"
          ]
        }
      ]
    },
    {
      "cell_type": "code",
      "source": [
        "import numpy as np\n",
        "\n",
        "class SimpleKNN:\n",
        "    def __init__(self, n_neighbors=5):\n",
        "        self.n_neighbors = n_neighbors\n",
        "        self.X_train = None\n",
        "        self.y_train = None\n",
        "\n",
        "    def fit(self, X, y):\n",
        "        self.X_train = X\n",
        "        self.y_train = y\n",
        "\n",
        "    def predict(self, X):\n",
        "        y_pred = np.zeros(X.shape[0])\n",
        "\n",
        "        for i, x in enumerate(X):\n",
        "            # Calculate distances between the current sample and all training samples\n",
        "            distances = np.linalg.norm(self.X_train - x, axis=1)\n",
        "\n",
        "            # Get indices of the k-nearest neighbors\n",
        "            k_indices = np.argsort(distances)[:self.n_neighbors]\n",
        "\n",
        "            # Find the most common class label among the neighbors\n",
        "            neighbor_labels = self.y_train[k_indices]\n",
        "            unique_labels, label_counts = np.unique(neighbor_labels, return_counts=True)\n",
        "            y_pred[i] = unique_labels[np.argmax(label_counts)]\n",
        "\n",
        "        return y_pred\n"
      ],
      "metadata": {
        "id": "rOXdGknV5l3h"
      },
      "execution_count": null,
      "outputs": []
    },
    {
      "cell_type": "code",
      "source": [
        "import numpy as np\n",
        "\n",
        "# Create an instance of the SimpleKNN class with default settings (5 neighbors)\n",
        "knn = SimpleKNN()\n",
        "\n",
        "# Define your training data and labels (example data)\n",
        "X_train = np.array([[1, 2], [2, 3], [3, 4], [4, 5]])\n",
        "y_train = np.array([0, 1, 0, 1])\n",
        "\n",
        "# Fit the SimpleKNN model with the training data and labels\n",
        "knn.fit(X_train, y_train)\n"
      ],
      "metadata": {
        "id": "Mux-HrAY6aO9"
      },
      "execution_count": null,
      "outputs": []
    },
    {
      "cell_type": "code",
      "source": [
        "import numpy as np\n",
        "from sklearn.metrics import accuracy_score\n",
        "\n",
        "# Define the SimpleKNN class\n",
        "class SimpleKNN:\n",
        "    def __init__(self, n_neighbors=5):\n",
        "        self.n_neighbors = n_neighbors\n",
        "        self.X_train = None\n",
        "        self.y_train = None\n",
        "\n",
        "    def fit(self, X, y):\n",
        "        self.X_train = X\n",
        "        self.y_train = y\n",
        "\n",
        "    def predict(self, X):\n",
        "        y_pred = np.zeros(X.shape[0])\n",
        "\n",
        "        for i, x in enumerate(X):\n",
        "            # Calculate distances between the current sample and all training samples\n",
        "            distances = np.linalg.norm(self.X_train - x, axis=1)\n",
        "\n",
        "            # Get indices of the k-nearest neighbors\n",
        "            k_indices = np.argsort(distances)[:self.n_neighbors]\n",
        "\n",
        "            # Find the most common class label among the neighbors\n",
        "            neighbor_labels = self.y_train[k_indices]\n",
        "            unique_labels, label_counts = np.unique(neighbor_labels, return_counts=True)\n",
        "            y_pred[i] = unique_labels[np.argmax(label_counts)]\n",
        "\n",
        "        return y_pred\n",
        "\n",
        "    def evaluate(self, X_test, y_test):\n",
        "        # Predict labels for the test data\n",
        "        y_pred = self.predict(X_test)\n",
        "\n",
        "        # Calculate accuracy\n",
        "        accuracy = accuracy_score(y_test, y_pred)\n",
        "\n",
        "        return accuracy, y_pred\n",
        "\n",
        "# Create an instance of the SimpleKNN class with default settings (5 neighbors)\n",
        "knn = SimpleKNN()\n",
        "\n",
        "# Define your training data and labels (example data)\n",
        "X_train = np.array([[1, 2], [2, 3], [3, 4], [4, 5]])\n",
        "y_train = np.array([0, 1, 0, 1])\n",
        "\n",
        "# Fit the SimpleKNN model with the training data and labels\n",
        "knn.fit(X_train, y_train)\n",
        "\n",
        "# Define your test data and labels (example data)\n",
        "X_test = np.array([[1.5, 2.5], [3.5, 4.5]])\n",
        "y_test = np.array([0, 0])\n",
        "\n",
        "# Evaluate the model and get predictions and accuracy\n",
        "accuracy, y_pred = knn.evaluate(X_test, y_test)\n",
        "\n",
        "# Print the results\n",
        "print(\"Predictions:\", y_pred)\n",
        "print(\"Accuracy:\", accuracy)\n"
      ],
      "metadata": {
        "colab": {
          "base_uri": "https://localhost:8080/"
        },
        "id": "iEoIlMeQpwcN",
        "outputId": "2a604128-c616-4dc9-bf9f-fc95bf02c2f5"
      },
      "execution_count": null,
      "outputs": [
        {
          "output_type": "stream",
          "name": "stdout",
          "text": [
            "Predictions: [0. 0.]\n",
            "Accuracy: 1.0\n"
          ]
        }
      ]
    },
    {
      "cell_type": "code",
      "source": [
        "from sklearn.metrics import accuracy_score\n",
        "import numpy as np\n",
        "\n",
        "# Sample data (replace with your data)\n",
        "X_train = np.array([[1, 2], [2, 3], [3, 4], [4, 5]])\n",
        "y_train = np.array([0, 1, 0, 1])\n",
        "X_test = np.array([[2, 2], [3, 3]])\n",
        "y_true = np.array([0, 1])\n",
        "\n",
        "# Define a range of hyperparameters to search\n",
        "n_neighbors_values = [3, 5, 7]\n",
        "weights_values = ['uniform', 'distance']\n",
        "\n",
        "best_accuracy = 0\n",
        "best_params = {}\n",
        "\n",
        "# Iterate through all hyperparameter combinations\n",
        "for n_neighbors in n_neighbors_values:\n",
        "    for weights in weights_values:\n",
        "        # Create and train a KNN model with the current hyperparameters\n",
        "        class SimpleKNN:\n",
        "            def __init__(self):\n",
        "                self.n_neighbors = n_neighbors\n",
        "                self.weights = weights\n",
        "                self.X_train = None\n",
        "                self.y_train = None\n",
        "\n",
        "            def fit(self, X, y):\n",
        "                self.X_train = X\n",
        "                self.y_train = y\n",
        "\n",
        "            def predict(self, X):\n",
        "                y_pred = []\n",
        "\n",
        "                for x in X:\n",
        "                    # Calculate distances between the current sample and all training samples\n",
        "                    distances = [np.linalg.norm(x - x_train) for x_train in self.X_train]\n",
        "\n",
        "                    # Get indices of the k-nearest neighbors\n",
        "                    k_indices = np.argsort(distances)[:self.n_neighbors]\n",
        "\n",
        "                    # Find the most common class label among the neighbors\n",
        "                    neighbor_labels = [self.y_train[i] for i in k_indices]\n",
        "                    unique_labels, label_counts = np.unique(neighbor_labels, return_counts=True)\n",
        "                    y_pred.append(unique_labels[np.argmax(label_counts)])\n",
        "\n",
        "                return np.array(y_pred)\n",
        "\n",
        "        knn = SimpleKNN()\n",
        "        knn.fit(X_train, y_train)\n",
        "\n",
        "        # Make predictions on the test set\n",
        "        y_pred = knn.predict(X_test)\n",
        "\n",
        "        # Calculate accuracy\n",
        "        accuracy = accuracy_score(y_true, y_pred)\n",
        "\n",
        "        # Check if this combination of hyperparameters gives a better accuracy\n",
        "        if accuracy > best_accuracy:\n",
        "            best_accuracy = accuracy\n",
        "            best_params = {'n_neighbors': n_neighbors, 'weights': weights}\n",
        "\n",
        "print(f\"Best Hyperparameters: {best_params}\")\n",
        "print(f\"Best Accuracy: {best_accuracy}\")\n"
      ],
      "metadata": {
        "colab": {
          "base_uri": "https://localhost:8080/"
        },
        "id": "0S6GxZujwphV",
        "outputId": "19a39dcd-64b6-419e-e6d3-c5aab0f55509"
      },
      "execution_count": null,
      "outputs": [
        {
          "output_type": "stream",
          "name": "stdout",
          "text": [
            "Best Hyperparameters: {'n_neighbors': 3, 'weights': 'uniform'}\n",
            "Best Accuracy: 0.5\n"
          ]
        }
      ]
    },
    {
      "cell_type": "code",
      "source": [
        "from sklearn.datasets import load_iris\n",
        "from sklearn.model_selection import train_test_split\n",
        "from sklearn.metrics import accuracy_score\n",
        "\n",
        "# Load the Iris dataset\n",
        "iris = load_iris()\n",
        "X = iris.data\n",
        "y = iris.target\n",
        "\n",
        "# Use train_test_split to split the data\n",
        "X_train, X_test, y_train, y_test = train_test_split(X, y, test_size=0.2, random_state=42)\n",
        "\n",
        "# Define a range of hyperparameters to search\n",
        "n_neighbors_values = [3, 5, 7]\n",
        "weights_values = ['uniform', 'distance']\n",
        "\n",
        "best_accuracy = 0\n",
        "best_params = {}\n",
        "\n",
        "# Iterate through all hyperparameter combinations\n",
        "for n_neighbors in n_neighbors_values:\n",
        "    for weights in weights_values:\n",
        "        # Create and train a KNN model with the current hyperparameters\n",
        "        class SimpleKNN:\n",
        "            def __init__(self):\n",
        "                self.n_neighbors = n_neighbors\n",
        "                self.weights = weights\n",
        "                self.X_train = None\n",
        "                self.y_train = None\n",
        "\n",
        "            def fit(self, X, y):\n",
        "                self.X_train = X\n",
        "                self.y_train = y\n",
        "\n",
        "            def predict(self, X):\n",
        "                y_pred = []\n",
        "\n",
        "                for x in X:\n",
        "                    # Calculate distances between the current sample and all training samples\n",
        "                    distances = [np.linalg.norm(x - x_train) for x_train in self.X_train]\n",
        "\n",
        "                    # Get indices of the k-nearest neighbors\n",
        "                    k_indices = np.argsort(distances)[:self.n_neighbors]\n",
        "\n",
        "                    # Find the most common class label among the neighbors\n",
        "                    neighbor_labels = [self.y_train[i] for i in k_indices]\n",
        "                    unique_labels, label_counts = np.unique(neighbor_labels, return_counts=True)\n",
        "                    y_pred.append(unique_labels[np.argmax(label_counts)])\n",
        "\n",
        "                return np.array(y_pred)\n",
        "\n",
        "        knn = SimpleKNN()\n",
        "        knn.fit(X_train, y_train)\n",
        "\n",
        "        # Make predictions on the test set\n",
        "        y_pred = knn.predict(X_test)\n",
        "\n",
        "        # Calculate accuracy\n",
        "        accuracy = accuracy_score(y_test, y_pred)\n",
        "\n",
        "        # Check if this combination of hyperparameters gives a better accuracy\n",
        "        if accuracy > best_accuracy:\n",
        "            best_accuracy = accuracy\n",
        "            best_params = {'n_neighbors': n_neighbors, 'weights': weights}\n",
        "\n",
        "print(f\"Best Hyperparameters: {best_params}\")\n",
        "print(f\"Best Accuracy: {best_accuracy}\")\n"
      ],
      "metadata": {
        "colab": {
          "base_uri": "https://localhost:8080/"
        },
        "id": "CI_6-0K8wxyA",
        "outputId": "67163405-3f0d-454a-b321-99a2f2103b69"
      },
      "execution_count": null,
      "outputs": [
        {
          "output_type": "stream",
          "name": "stdout",
          "text": [
            "Best Hyperparameters: {'n_neighbors': 3, 'weights': 'uniform'}\n",
            "Best Accuracy: 1.0\n"
          ]
        }
      ]
    }
  ]
}